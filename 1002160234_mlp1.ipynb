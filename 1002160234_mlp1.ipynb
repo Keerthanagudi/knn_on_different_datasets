{
  "nbformat": 4,
  "nbformat_minor": 0,
  "metadata": {
    "colab": {
      "provenance": []
    },
    "kernelspec": {
      "name": "python3",
      "display_name": "Python 3"
    },
    "language_info": {
      "name": "python"
    }
  },
  "cells": [
    {
      "cell_type": "markdown",
      "source": [
        "# **From Scratch**"
      ],
      "metadata": {
        "id": "YBDsmsRFuX9Q"
      }
    },
    {
      "cell_type": "code",
      "execution_count": null,
      "metadata": {
        "id": "hOvq59FGrEJv"
      },
      "outputs": [],
      "source": [
        "import math\n",
        "import random\n",
        "from collections import Counter\n",
        "from random import seed"
      ]
    },
    {
      "cell_type": "code",
      "source": [
        "from csv import reader\n",
        "def load_csv(filename):\n",
        "    dataset = list()\n",
        "    with open(filename, 'r') as file:\n",
        "        csv_reader = reader(file)\n",
        "        for row in csv_reader:\n",
        "            if not row:\n",
        "                continue\n",
        "            dataset.append(row)\n",
        "    return dataset"
      ],
      "metadata": {
        "id": "Yy7l1z2RrR2e"
      },
      "execution_count": null,
      "outputs": []
    },
    {
      "cell_type": "code",
      "source": [
        "def encode_data(dataset):\n",
        "    #Encodes categorical variables in the dataset to numeric.\n",
        "    cols = list(zip(*dataset))\n",
        "    data_encode = []\n",
        "    for col in cols[:]:\n",
        "        if all(item.replace('.','',1).isdigit() for item in col):\n",
        "            data_encode.append([float(item) for item in col])\n",
        "        else:\n",
        "            unque_vals = list(set(col))\n",
        "            col_encode = [unque_vals.index(item) for item in col]\n",
        "            data_encode.append(col_encode)\n",
        "    return list(zip(*data_encode))"
      ],
      "metadata": {
        "id": "sv1n12a-rVxG"
      },
      "execution_count": null,
      "outputs": []
    },
    {
      "cell_type": "code",
      "source": [
        "def euclidean_distance(x1, x2):\n",
        "    #Calculate the Euclidean distance between two points.\n",
        "    dist = 0.0\n",
        "    for i in range(len(x1) - 1):\n",
        "      dist += (float(x1[i]) - float(x2[i]))**2\n",
        "    return math.sqrt(dist)\n",
        "\n",
        "def manhattan_distance(x1, x2):\n",
        "\n",
        "    #Calculate the Manhattan distance between two points.\n",
        "    dist = 0.0\n",
        "    for i in range(len(x1) - 1):\n",
        "      dist += abs(float(x1[i]) - float(x2[i]))\n",
        "    return dist\n",
        "\n",
        "def hamming_distance(x1, x2):\n",
        "    #Calculate the Hamming distance between two points.\n",
        "    dist = 0\n",
        "    for i in range(len(x1) - 1):\n",
        "      if x1[i] != x2[i]:\n",
        "        dist += 1\n",
        "    return dist\n",
        "\n",
        "def cosine_similarity(x1, x2):\n",
        "    #Calculate the cosine similarity between two points.\n",
        "    dot_product = 0.0\n",
        "    norm_x1 = 0.0\n",
        "    norm_x2 = 0.0\n",
        "    for i in range(len(x1) - 1):\n",
        "      dot_product += float(x1[i]) * float(x2[i])\n",
        "      norm_x1 += float(x1[i]) ** 2\n",
        "      norm_x2 += float(x2[i]) ** 2\n",
        "    if norm_x1 == 0 or norm_x2 == 0:\n",
        "        return 0.0\n",
        "    else:\n",
        "        return dot_product / (math.sqrt(norm_x1) * math.sqrt(norm_x2))"
      ],
      "metadata": {
        "id": "MrgpzIpTrY3V"
      },
      "execution_count": null,
      "outputs": []
    },
    {
      "cell_type": "code",
      "source": [
        "def k_nearest_neighbors(data, query, k, distance_fn):\n",
        "    #Find the k nearest neighbors of query point in the dataset using the specified distance function.\n",
        "    neighbor_distances = []\n",
        "    for index, example in enumerate(data):\n",
        "        distance = distance_fn(example[:-1], query)\n",
        "        neighbor_distances.append((distance, index))\n",
        "\n",
        "    nearest_neighbors = sorted(neighbor_distances)\n",
        "    k_nearestdistances = nearest_neighbors[:k]\n",
        "    return k_nearestdistances"
      ],
      "metadata": {
        "id": "4a1ScOUWre2L"
      },
      "execution_count": null,
      "outputs": []
    },
    {
      "cell_type": "code",
      "source": [
        "def predict_classification(data, query, k, distance_fn):\n",
        "\n",
        "    #Predict the class of the query point based on k nearest neighbors.\n",
        "    knear_neighbors_indices = k_nearest_neighbors(data, query, k, distance_fn)\n",
        "\n",
        "    knear_labels = [data[i][-1] for distance, i in knear_neighbors_indices]\n",
        "\n",
        "    most_common = Counter(knear_labels).most_common(1)\n",
        "    return most_common[0][0]"
      ],
      "metadata": {
        "id": "QWwhYZeurhfB"
      },
      "execution_count": null,
      "outputs": []
    },
    {
      "cell_type": "code",
      "source": [
        "def k_fold_cross_validation_split(data, k_folds):\n",
        "\n",
        "    #Split dataset into k folds for cross-validation.\n",
        "    data_split = []\n",
        "    copyof_data = list(data)\n",
        "    fold_size = int(len(data) / k_folds)\n",
        "    for _ in range(k_folds):\n",
        "        fold = []\n",
        "        while len(fold) < fold_size:\n",
        "            index = random.randrange(len(copyof_data))\n",
        "            fold.append(copyof_data.pop(index))\n",
        "        data_split.append(fold)\n",
        "    return data_split"
      ],
      "metadata": {
        "id": "gg-JNn2mrkHE"
      },
      "execution_count": null,
      "outputs": []
    },
    {
      "cell_type": "code",
      "source": [
        "def cross_validation_score(data, k_neighbors, k_folds, distance_fn):\n",
        "\n",
        "    #Evaluate algorithm using a cross-validation split.\n",
        "    folds = k_fold_cross_validation_split(data, k_folds)\n",
        "    scores = []\n",
        "    for fold in folds:\n",
        "        training_set = list(folds)\n",
        "        training_set.remove(fold)\n",
        "        training_set = sum(training_set, [])\n",
        "        testing_set = []\n",
        "        for row in fold:\n",
        "            row_copy = list(row)\n",
        "            testing_set.append(row_copy)\n",
        "            row_copy[-1] = None\n",
        "        predicted = [predict_classification(training_set, row, k_neighbors, distance_fn) for row in testing_set]\n",
        "        actual = [row[-1] for row in fold]\n",
        "        accuracy = sum(1 for i in range(len(actual)) if actual[i] == predicted[i]) / float(len(actual))\n",
        "        scores.append(accuracy)\n",
        "    return scores"
      ],
      "metadata": {
        "id": "m_MtHA2armYh"
      },
      "execution_count": null,
      "outputs": []
    },
    {
      "cell_type": "markdown",
      "source": [
        "**Hayes-Roth Dataset**"
      ],
      "metadata": {
        "id": "rfQzqlkKrryD"
      }
    },
    {
      "cell_type": "code",
      "source": [
        "# to find k value that gives maximum accuracy\n",
        "import matplotlib.pyplot as plt\n",
        "acc = []\n",
        "filename = 'hayes-roth.data'\n",
        "dataset = load_csv(filename)\n",
        "X = [row[:-1] for row in dataset]\n",
        "y= [row[-1] for row in dataset]\n",
        "for i in range(1,50):\n",
        "    seed(50)\n",
        "    hrscores1 = cross_validation_score(dataset, i , 10, euclidean_distance)\n",
        "    acc.append(sum(hrscores1)/len(hrscores1))\n",
        "plt.figure(figsize=(10,6))\n",
        "plt.plot(range(1,50),acc,color = 'blue',linestyle='dashed',\n",
        "         marker='o',markerfacecolor='red', markersize=10)\n",
        "plt.title('accuracy vs. K Value')\n",
        "plt.xlabel('K')\n",
        "plt.ylabel('Accuracy')\n",
        "print(\"Maximum accuracy:-\",max(acc),\"at K =\",acc.index(max(acc)))"
      ],
      "metadata": {
        "colab": {
          "base_uri": "https://localhost:8080/",
          "height": 447
        },
        "id": "a6YPv305roi2",
        "outputId": "d024a658-6e67-4fba-f1a7-3f349ec59b0b"
      },
      "execution_count": null,
      "outputs": [
        {
          "output_type": "stream",
          "name": "stdout",
          "text": [
            "Maximum accuracy:- 0.4384615384615385 at K = 7\n"
          ]
        },
        {
          "output_type": "display_data",
          "data": {
            "text/plain": [
              "<Figure size 1000x600 with 1 Axes>"
            ],
            "image/png": "[encoded data removed]"
          },
          "metadata": {}
        }
      ]
    },
    {
      "cell_type": "code",
      "source": [
        "#To get accuracies for hayes-roth data\n",
        "if __name__ == \"__main__\":\n",
        "    filename = 'hayes-roth.data'\n",
        "    dataset = load_csv(filename)\n",
        "    seed(100)\n",
        "    hrscores1 = cross_validation_score(dataset, 7, 10, euclidean_distance)\n",
        "    print(\"Euclidean Distance\")\n",
        "    print(\"Scores :\", hrscores1)\n",
        "    print(\"Mean Accuracy:\", sum(hrscores1)/len(hrscores1))\n",
        "    hrscores2 = cross_validation_score(dataset, 7, 10, manhattan_distance)\n",
        "    print(\"Manhattan Distance\")\n",
        "    print(\"Scores :\", hrscores2)\n",
        "    print(\"Mean Accuracy:\", sum(hrscores2)/len(hrscores2))\n",
        "    hrscores3 = cross_validation_score(dataset, 7, 10, hamming_distance)\n",
        "    print(\"Hamming Distance\")\n",
        "    print(\"Scores :\", hrscores3)\n",
        "    print(\"Mean Accuracy:\", sum(hrscores3)/len(hrscores3))\n",
        "    hrscores4 = cross_validation_score(dataset, 7, 10, cosine_similarity)\n",
        "    print(\"Cosine Similarity\")\n",
        "    print(\"Scores :\", hrscores4)\n",
        "    print(\"Mean Accuracy:\", sum(hrscores4)/len(hrscores4))"
      ],
      "metadata": {
        "colab": {
          "base_uri": "https://localhost:8080/"
        },
        "id": "G2GEvSG3s-YV",
        "outputId": "0a9175ba-0f9d-4109-c531-c4d26ccfdfa6"
      },
      "execution_count": null,
      "outputs": [
        {
          "output_type": "stream",
          "name": "stdout",
          "text": [
            "Euclidean Distance\n",
            "Scores : [0.46153846153846156, 0.3076923076923077, 0.46153846153846156, 0.46153846153846156, 0.6153846153846154, 0.5384615384615384, 0.23076923076923078, 0.5384615384615384, 0.38461538461538464, 0.38461538461538464]\n",
            "Mean Accuracy: 0.4384615384615385\n",
            "Manhattan Distance\n",
            "Scores : [0.5384615384615384, 0.15384615384615385, 0.3076923076923077, 0.6153846153846154, 0.5384615384615384, 0.5384615384615384, 0.6153846153846154, 0.3076923076923077, 0.38461538461538464, 0.3076923076923077]\n",
            "Mean Accuracy: 0.43076923076923074\n",
            "Hamming Distance\n",
            "Scores : [0.3076923076923077, 0.5384615384615384, 0.6923076923076923, 0.5384615384615384, 0.38461538461538464, 0.6153846153846154, 0.3076923076923077, 0.46153846153846156, 0.46153846153846156, 0.23076923076923078]\n",
            "Mean Accuracy: 0.45384615384615384\n",
            "Cosine Similarity\n",
            "Scores : [0.23076923076923078, 0.23076923076923078, 0.15384615384615385, 0.15384615384615385, 0.23076923076923078, 0.3076923076923077, 0.23076923076923078, 0.23076923076923078, 0.0, 0.23076923076923078]\n",
            "Mean Accuracy: 0.2\n"
          ]
        }
      ]
    },
    {
      "cell_type": "markdown",
      "source": [
        "**Car Dataset**"
      ],
      "metadata": {
        "id": "fA2dkhLxtW8e"
      }
    },
    {
      "cell_type": "code",
      "source": [
        "#To get accuracies for car data\n",
        "if __name__ == \"__main__\":\n",
        "    filename = 'car.data'\n",
        "    dataset = load_csv(filename)\n",
        "    dataset = encode_data(dataset)\n",
        "    seed(100)\n",
        "    cscores1 = cross_validation_score(dataset, 45, 10, euclidean_distance)\n",
        "    print(\"Euclidean Distance\")\n",
        "    print(\"Scores :\", cscores1)\n",
        "    print(\"Mean Accuracy:\", sum(cscores1)/len(cscores1))\n",
        "    cscores2 = cross_validation_score(dataset, 45, 10, manhattan_distance)\n",
        "    print(\"Manhattan Distance\")\n",
        "    print(\"Scores :\", cscores2)\n",
        "    print(\"Mean Accuracy:\", sum(cscores2)/len(cscores2))\n",
        "    cscores3 = cross_validation_score(dataset, 45, 10, hamming_distance)\n",
        "    print(\"Hamming Distance\")\n",
        "    print(\"Scores :\", cscores3)\n",
        "    print(\"Mean Accuracy:\", sum(cscores3)/len(cscores3))\n",
        "    cscores4 = cross_validation_score(dataset, 45, 10, cosine_similarity)\n",
        "    print(\"Cosine Similarity\")\n",
        "    print(\"Scores :\", cscores4)\n",
        "    print(\"Mean Accuracy:\", sum(cscores4)/len(cscores4))"
      ],
      "metadata": {
        "colab": {
          "base_uri": "https://localhost:8080/"
        },
        "id": "vB1bmltStoKY",
        "outputId": "830eccfb-4044-49f6-e1e9-e134552a7eb8"
      },
      "execution_count": null,
      "outputs": [
        {
          "output_type": "stream",
          "name": "stdout",
          "text": [
            "Euclidean Distance\n",
            "Scores : [0.6976744186046512, 0.7441860465116279, 0.6104651162790697, 0.6569767441860465, 0.686046511627907, 0.7209302325581395, 0.7267441860465116, 0.7034883720930233, 0.75, 0.6627906976744186]\n",
            "Mean Accuracy: 0.6959302325581395\n",
            "Manhattan Distance\n",
            "Scores : [0.6395348837209303, 0.7034883720930233, 0.6337209302325582, 0.6744186046511628, 0.7034883720930233, 0.6976744186046512, 0.6802325581395349, 0.7151162790697675, 0.7616279069767442, 0.6976744186046512]\n",
            "Mean Accuracy: 0.6906976744186047\n",
            "Hamming Distance\n",
            "Scores : [0.6569767441860465, 0.6802325581395349, 0.6918604651162791, 0.6802325581395349, 0.7093023255813954, 0.7034883720930233, 0.6976744186046512, 0.6511627906976745, 0.7383720930232558, 0.7209302325581395]\n",
            "Mean Accuracy: 0.6930232558139535\n",
            "Cosine Similarity\n",
            "Scores : [0.6744186046511628, 0.7093023255813954, 0.7151162790697675, 0.7034883720930233, 0.6918604651162791, 0.6744186046511628, 0.6337209302325582, 0.7383720930232558, 0.7790697674418605, 0.6686046511627907]\n",
            "Mean Accuracy: 0.6988372093023256\n"
          ]
        }
      ]
    },
    {
      "cell_type": "markdown",
      "source": [
        "**Breast Cancer Dataset**"
      ],
      "metadata": {
        "id": "xK_7bS7bt3ov"
      }
    },
    {
      "cell_type": "code",
      "source": [
        "# to find k value that gives maximum accuracy\n",
        "import matplotlib.pyplot as plt\n",
        "acc = []\n",
        "filename = 'breast-cancer.data'\n",
        "dataset = load_csv(filename)\n",
        "dataset = encode_data(dataset)\n",
        "X = [row[:-1] for row in dataset]\n",
        "y= [row[-1] for row in dataset]\n",
        "\n",
        "for i in range(1,50):\n",
        "    seed(100)\n",
        "    bcscores1 = cross_validation_score(dataset, i , 10, euclidean_distance)\n",
        "    acc.append(sum(bcscores1)/len(bcscores1))\n",
        "\n",
        "plt.figure(figsize=(10,6))\n",
        "plt.plot(range(1,50),acc,color = 'blue',linestyle='dashed',\n",
        "         marker='o',markerfacecolor='red', markersize=10)\n",
        "plt.title('accuracy vs. K Value')\n",
        "plt.xlabel('K')\n",
        "plt.ylabel('Accuracy')\n",
        "print(\"Maximum accuracy:-\",max(acc),\"at K =\",acc.index(max(acc)))"
      ],
      "metadata": {
        "colab": {
          "base_uri": "https://localhost:8080/",
          "height": 447
        },
        "id": "4KZBLvsEtwEe",
        "outputId": "0bc2a26d-415a-4f9c-d5ac-fdac8955f818"
      },
      "execution_count": null,
      "outputs": [
        {
          "output_type": "stream",
          "name": "stdout",
          "text": [
            "Maximum accuracy:- 0.775 at K = 8\n"
          ]
        },
        {
          "output_type": "display_data",
          "data": {
            "text/plain": [
              "<Figure size 1000x600 with 1 Axes>"
            ],
            "image/png": "[encoded data removed]"
          },
          "metadata": {}
        }
      ]
    },
    {
      "cell_type": "code",
      "source": [
        "#To get accuracies for breast cancer data\n",
        "if __name__ == \"__main__\":\n",
        "    filename = 'breast-cancer.data'\n",
        "    dataset = load_csv(filename)\n",
        "    dataset = encode_data(dataset)\n",
        "    seed(100)\n",
        "    bcscores1 = cross_validation_score(dataset, 8, 10, euclidean_distance)\n",
        "    print(\"Euclidean Distance\")\n",
        "    print(\"Scores :\", bcscores1)\n",
        "    print(\"Mean Accuracy:\", sum(bcscores1)/len(bcscores1))\n",
        "    bcscores2 = cross_validation_score(dataset, 8, 10, manhattan_distance)\n",
        "    print(\"Manhattan Distance\")\n",
        "    print(\"Scores :\", bcscores2)\n",
        "    print(\"Mean Accuracy:\", sum(bcscores2)/len(bcscores2))\n",
        "    bcscores3 = cross_validation_score(dataset, 8, 10, hamming_distance)\n",
        "    print(\"Hamming Distance\")\n",
        "    print(\"Scores :\", bcscores3)\n",
        "    print(\"Mean Accuracy:\", sum(bcscores3)/len(bcscores3))\n",
        "    bcscores4 = cross_validation_score(dataset, 8, 10, cosine_similarity)\n",
        "    print(\"Cosine Similarity\")\n",
        "    print(\"Scores :\", bcscores4)\n",
        "    print(\"Mean Accuracy:\", sum(bcscores4)/len(bcscores4))"
      ],
      "metadata": {
        "colab": {
          "base_uri": "https://localhost:8080/"
        },
        "id": "tSsVV3NVt7Gb",
        "outputId": "65567477-27fc-4a03-8488-a3368b2e0ef2"
      },
      "execution_count": null,
      "outputs": [
        {
          "output_type": "stream",
          "name": "stdout",
          "text": [
            "Euclidean Distance\n",
            "Scores : [0.75, 0.6428571428571429, 0.5714285714285714, 0.8214285714285714, 0.7857142857142857, 0.7857142857142857, 0.8928571428571429, 0.7857142857142857, 0.75, 0.75]\n",
            "Mean Accuracy: 0.7535714285714286\n",
            "Manhattan Distance\n",
            "Scores : [0.7857142857142857, 0.8928571428571429, 0.9285714285714286, 0.8214285714285714, 0.6785714285714286, 0.6785714285714286, 0.8571428571428571, 0.75, 0.75, 0.6071428571428571]\n",
            "Mean Accuracy: 0.775\n",
            "Hamming Distance\n",
            "Scores : [0.75, 0.8214285714285714, 0.6785714285714286, 0.6785714285714286, 0.7857142857142857, 0.8571428571428571, 0.75, 0.8571428571428571, 0.8214285714285714, 0.7142857142857143]\n",
            "Mean Accuracy: 0.7714285714285714\n",
            "Cosine Similarity\n",
            "Scores : [0.7857142857142857, 0.6785714285714286, 0.6785714285714286, 0.6428571428571429, 0.75, 0.75, 0.8214285714285714, 0.6428571428571429, 0.75, 0.5714285714285714]\n",
            "Mean Accuracy: 0.7071428571428572\n"
          ]
        }
      ]
    },
    {
      "cell_type": "markdown",
      "source": [
        "# **Sci-Kit Learn Implementation  && Paired T-Test**"
      ],
      "metadata": {
        "id": "sBDPV8LRuK-p"
      }
    },
    {
      "cell_type": "code",
      "source": [
        "import random\n",
        "from sklearn.model_selection import KFold\n",
        "from sklearn.neighbors import KNeighborsClassifier"
      ],
      "metadata": {
        "id": "IuGHJ9YjuWIn"
      },
      "execution_count": null,
      "outputs": []
    },
    {
      "cell_type": "markdown",
      "source": [
        "**Hayes-Roth Dataset**"
      ],
      "metadata": {
        "id": "b1abZjzXuivD"
      }
    },
    {
      "cell_type": "code",
      "source": [
        "filename = 'hayes-roth.data'\n",
        "hrdataset = load_csv(filename)\n",
        "X = [row[:-1] for row in hrdataset]\n",
        "y= [row[-1] for row in hrdataset]\n",
        "\n",
        "def convert_to_numeric(data):\n",
        "  converted_data = []\n",
        "  for row in data:\n",
        "    converted_row = []\n",
        "    for element in row:\n",
        "      try:\n",
        "        converted_row.append(float(element))\n",
        "      except ValueError:\n",
        "        raise ValueError(\"Data contains non-numeric values.\")\n",
        "    converted_data.append(converted_row)\n",
        "\n",
        "  return converted_data\n"
      ],
      "metadata": {
        "id": "MWJ3dIh4ur62"
      },
      "execution_count": null,
      "outputs": []
    },
    {
      "cell_type": "code",
      "source": [
        "from scipy.stats import ttest_rel\n",
        "kf = KFold(n_splits=10, shuffle=True, random_state=100)\n",
        "metrics=['euclidean','manhattan','hamming','cosine']\n",
        "for metric in metrics:\n",
        "  print(f\"Using metric: {metric}\")\n",
        "  #from scratch\n",
        "  if (metric== 'euclidean'):\n",
        "    scratch_acc= hrscores1\n",
        "  elif(metric== 'manhattan'):\n",
        "    scratch_acc= hrscores2\n",
        "  elif(metric== 'hamming'):\n",
        "    scratch_acc= hrscores3\n",
        "  elif(metric== 'cosine'):\n",
        "    scratch_acc= hrscores4\n",
        "  # sci-kit\n",
        "  knn = KNeighborsClassifier(n_neighbors=7, metric= metric )\n",
        "  cv_scores = [0] * kf.get_n_splits()\n",
        "  for i, (train_index, test_index) in enumerate(kf.split(X)):\n",
        "    X_train = [X[index] for index in train_index]\n",
        "    X_test = [X[index] for index in test_index]\n",
        "    y_train = [y[index] for index in train_index]\n",
        "    y_test = [y[index] for index in test_index]\n",
        "    X = convert_to_numeric(X)\n",
        "    X_train = convert_to_numeric(X_train)\n",
        "    X_test = convert_to_numeric(X_test)\n",
        "    knn.fit(X_train, y_train)\n",
        "    y_pred = knn.predict(X_test)\n",
        "    cv_scores[i] = sum(y_pred == y_test) / len(y_test)\n",
        "  mean_score = sum(cv_scores) / kf.get_n_splits()\n",
        "  std_dev_score = 0\n",
        "  for score in cv_scores:\n",
        "    std_dev_score += (score - mean_score)**2\n",
        "  std_dev_score = (std_dev_score / kf.get_n_splits()) ** 0.5\n",
        "  print(f\"Mean accuracy score for {metric} : {mean_score}\")\n",
        "  print(\" \")\n",
        "\n",
        "  #ttest\n",
        "  t_statistic, p_value = ttest_rel(scratch_acc, cv_scores)\n",
        "  alpha =0.05\n",
        "  if p_value < alpha:\n",
        "    print(f\"The difference is statistically significant(p value: {p_value})\")\n",
        "  else:\n",
        "    print(f\"The difference is not statistically significant(p value: {p_value})\")\n",
        "  print(\" \")"
      ],
      "metadata": {
        "colab": {
          "base_uri": "https://localhost:8080/"
        },
        "id": "ZiE6M5hPD3Cp",
        "outputId": "caf63182-78a6-4fbc-bdc5-485d6b424eec"
      },
      "execution_count": null,
      "outputs": [
        {
          "output_type": "stream",
          "name": "stdout",
          "text": [
            "Using metric: euclidean\n",
            "Mean accuracy score for euclidean : 0.40989010989010993\n",
            " \n",
            "The difference is not statistically significant(p value: 0.6952714796970705)\n",
            " \n",
            "Using metric: manhattan\n",
            "Mean accuracy score for manhattan : 0.4406593406593407\n",
            " \n",
            "The difference is not statistically significant(p value: 0.8269695094432188)\n",
            " \n",
            "Using metric: hamming\n",
            "Mean accuracy score for hamming : 0.5445054945054946\n",
            " \n",
            "The difference is not statistically significant(p value: 0.34287462906524063)\n",
            " \n",
            "Using metric: cosine\n",
            "Mean accuracy score for cosine : 0.43901098901098906\n",
            " \n",
            "The difference is statistically significant(p value: 0.00016319658796530944)\n",
            " \n"
          ]
        }
      ]
    },
    {
      "cell_type": "markdown",
      "source": [
        "**Car Dataset**"
      ],
      "metadata": {
        "id": "L9fifEmQvDak"
      }
    },
    {
      "cell_type": "code",
      "source": [
        "filename = 'car.data'\n",
        "dataset = load_csv(filename)\n",
        "dataset = encode_data(dataset)\n",
        "X = [row[:-1] for row in dataset]\n",
        "y= [row[-1] for row in dataset]"
      ],
      "metadata": {
        "id": "QoXDfVvLvGNd"
      },
      "execution_count": null,
      "outputs": []
    },
    {
      "cell_type": "code",
      "source": [
        "from scipy.stats import ttest_rel\n",
        "\n",
        "kf = KFold(n_splits=10, shuffle=True, random_state=100)\n",
        "metrics=['euclidean','manhattan','hamming','cosine']\n",
        "for metric in metrics:\n",
        "  print(f\"Using metric: {metric}\")\n",
        "  #from scratch\n",
        "  if (metric== 'euclidean'):\n",
        "    scratch_acc= cscores1\n",
        "  elif(metric== 'manhattan'):\n",
        "    scratch_acc= cscores2\n",
        "  elif(metric== 'hamming'):\n",
        "    scratch_acc= cscores3\n",
        "  elif(metric== 'cosine'):\n",
        "    scratch_acc= cscores4\n",
        "\n",
        "  # sci-kit\n",
        "  knn = KNeighborsClassifier(n_neighbors=45, metric= metric )\n",
        "  cv_scores = [0] * kf.get_n_splits()\n",
        "\n",
        "  for i, (train_index, test_index) in enumerate(kf.split(X)):\n",
        "    X_train = [X[index] for index in train_index]\n",
        "    X_test = [X[index] for index in test_index]\n",
        "    y_train = [y[index] for index in train_index]\n",
        "    y_test = [y[index] for index in test_index]\n",
        "\n",
        "    knn.fit(X_train, y_train)\n",
        "    y_pred = knn.predict(X_test)\n",
        "    cv_scores[i] = sum(y_pred == y_test) / len(y_test)\n",
        "  mean_score = sum(cv_scores) / kf.get_n_splits()\n",
        "  std_dev_score = 0\n",
        "  for score in cv_scores:\n",
        "    std_dev_score += (score - mean_score)**2\n",
        "  std_dev_score = (std_dev_score / kf.get_n_splits()) ** 0.5\n",
        "  print(f\"Mean accuracy score for {metric} : {mean_score}\")\n",
        "  print(\" \")\n",
        "  #ttest\n",
        "  t_statistic, p_value = ttest_rel(scratch_acc, cv_scores)\n",
        "  alpha =0.05\n",
        "  if p_value < alpha:\n",
        "    print(f\"The difference is statistically significant(p value: {p_value})\")\n",
        "  else:\n",
        "    print(f\"The difference is not statistically significant(p value: {p_value})\")\n",
        "  print(\" \")"
      ],
      "metadata": {
        "colab": {
          "base_uri": "https://localhost:8080/"
        },
        "id": "ky9deictE6tk",
        "outputId": "5d6ce52b-cff8-46a6-fd32-d2e1ae3e1997"
      },
      "execution_count": null,
      "outputs": [
        {
          "output_type": "stream",
          "name": "stdout",
          "text": [
            "Using metric: euclidean\n",
            "Mean accuracy score for euclidean : 0.7575346148675898\n",
            " \n",
            "The difference is statistically significant(p value: 0.0074502282100910085)\n",
            " \n",
            "Using metric: manhattan\n",
            "Mean accuracy score for manhattan : 0.7743110633149617\n",
            " \n",
            "The difference is statistically significant(p value: 0.0008003641886486011)\n",
            " \n",
            "Using metric: hamming\n",
            "Mean accuracy score for hamming : 0.7772146793923914\n",
            " \n",
            "The difference is statistically significant(p value: 0.00012091379743594672)\n",
            " \n",
            "Using metric: cosine\n",
            "Mean accuracy score for cosine : 0.7754570506788547\n",
            " \n",
            "The difference is statistically significant(p value: 0.00039235181735005785)\n",
            " \n"
          ]
        }
      ]
    },
    {
      "cell_type": "markdown",
      "source": [
        "**Breast-Cancer Dataset**"
      ],
      "metadata": {
        "id": "f6qvd_u1vRIq"
      }
    },
    {
      "cell_type": "code",
      "source": [
        "filename = 'breast-cancer.data'\n",
        "dataset = load_csv(filename)\n",
        "dataset = encode_data(dataset)\n",
        "X = [row[1:] for row in dataset]\n",
        "y= [row[0] for row in dataset]"
      ],
      "metadata": {
        "id": "7RD7Jp2cvQf1"
      },
      "execution_count": null,
      "outputs": []
    },
    {
      "cell_type": "code",
      "source": [
        "from scipy.stats import ttest_rel\n",
        "\n",
        "kf = KFold(n_splits=10, shuffle=True, random_state=100)\n",
        "metrics=['euclidean','manhattan','hamming','cosine']\n",
        "for metric in metrics:\n",
        "  print(f\"Using metric: {metric}\")\n",
        "  #from scratch\n",
        "  if (metric== 'euclidean'):\n",
        "    scratch_acc= bcscores1\n",
        "  elif(metric== 'manhattan'):\n",
        "    scratch_acc= bcscores2\n",
        "  elif(metric== 'hamming'):\n",
        "    scratch_acc= bcscores3\n",
        "  elif(metric== 'cosine'):\n",
        "    scratch_acc= bcscores4\n",
        "\n",
        "  # sci-kit\n",
        "  knn = KNeighborsClassifier(n_neighbors=7, metric= metric )\n",
        "  cv_scores = [0] * kf.get_n_splits()\n",
        "\n",
        "  for i, (train_index, test_index) in enumerate(kf.split(X)):\n",
        "    X_train = [X[index] for index in train_index]\n",
        "    X_test = [X[index] for index in test_index]\n",
        "    y_train = [y[index] for index in train_index]\n",
        "    y_test = [y[index] for index in test_index]\n",
        "\n",
        "    knn.fit(X_train, y_train)\n",
        "    y_pred = knn.predict(X_test)\n",
        "    cv_scores[i] = sum(y_pred == y_test) / len(y_test)\n",
        "  mean_score = sum(cv_scores) / kf.get_n_splits()\n",
        "  std_dev_score = 0\n",
        "  for score in cv_scores:\n",
        "    std_dev_score += (score - mean_score)**2\n",
        "  std_dev_score = (std_dev_score / kf.get_n_splits()) ** 0.5\n",
        "  print(f\"Mean accuracy score for {metric} : {mean_score}\")\n",
        "  print(\" \")\n",
        "  #ttest\n",
        "  t_statistic, p_value = ttest_rel(scratch_acc, cv_scores)\n",
        "  alpha =0.05\n",
        "  if p_value < alpha:\n",
        "    print(f\"The difference is statistically significant(p value: {p_value})\")\n",
        "  else:\n",
        "    print(f\"The difference is not statistically significant(p value: {p_value})\")\n",
        "  print(\" \")"
      ],
      "metadata": {
        "colab": {
          "base_uri": "https://localhost:8080/"
        },
        "id": "9atGXA5TFZFE",
        "outputId": "dec33c13-9271-465d-e6bd-52938c3bdf98"
      },
      "execution_count": null,
      "outputs": [
        {
          "output_type": "stream",
          "name": "stdout",
          "text": [
            "Using metric: euclidean\n",
            "Mean accuracy score for euclidean : 0.727463054187192\n",
            " \n",
            "The difference is not statistically significant(p value: 0.5196975634898158)\n",
            " \n",
            "Using metric: manhattan\n",
            "Mean accuracy score for manhattan : 0.7169950738916256\n",
            " \n",
            "The difference is not statistically significant(p value: 0.1963464835581348)\n",
            " \n",
            "Using metric: hamming\n",
            "Mean accuracy score for hamming : 0.7412561576354679\n",
            " \n",
            "The difference is not statistically significant(p value: 0.4416290080948907)\n",
            " \n",
            "Using metric: cosine\n",
            "Mean accuracy score for cosine : 0.7126847290640395\n",
            " \n",
            "The difference is not statistically significant(p value: 0.8911368467550729)\n",
            " \n"
          ]
        }
      ]
    }
  ]
}